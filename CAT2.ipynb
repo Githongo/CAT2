{
  "nbformat": 4,
  "nbformat_minor": 0,
  "metadata": {
    "colab": {
      "name": "CAT2.ipynb",
      "provenance": [],
      "collapsed_sections": []
    },
    "kernelspec": {
      "name": "python3",
      "display_name": "Python 3"
    }
  },
  "cells": [
    {
      "cell_type": "markdown",
      "metadata": {
        "id": "mCYQRjG13U0q"
      },
      "source": [
        "# Newsgroup Post topic (category) classification using Naive Bayes Classifier\r\n",
        "* ICS3C - 110605 - Alphonce Mutebi\r\n",
        "* ICS3C - 103673 - Jeffery King'ori\r\n",
        "* ICS3C - 111643 - James Kinyanjui\r\n",
        "\r\n",
        "##### Introduction\r\n",
        "We trained our model using the [20 news group dataset](https://https://scikit-learn.org/stable/datasets/index.html#newsgroups-dataset) to classify news into 20 topics using Gaussian Naive Bayes.  \r\n",
        "We then checked the performance of our model using a confusion matrix."
      ]
    },
    {
      "cell_type": "markdown",
      "metadata": {
        "id": "4YOAk1s59W4S"
      },
      "source": [
        "#### Importing dataset and Libraries\r\n",
        "* Importing dataset from scikitlearn.  \r\n",
        "* Importing count Vectorizer for feature scaling.\r\n",
        "* Importing Gaussian Naive Bayes which will be the classifier.\r\n",
        "* Importing confusion matrix for performance measure.  \r\n",
        "* Importing matplotlib for visualization.\r\n"
      ]
    },
    {
      "cell_type": "code",
      "metadata": {
        "id": "clYr_B5h3KvQ"
      },
      "source": [
        "from sklearn.datasets import fetch_20newsgroups\r\n",
        "from sklearn.feature_extraction.text import CountVectorizer\r\n",
        "from sklearn.naive_bayes import GaussianNB\r\n",
        "from sklearn.metrics import confusion_matrix, plot_confusion_matrix\r\n",
        "import matplotlib.pyplot as plt"
      ],
      "execution_count": 38,
      "outputs": []
    },
    {
      "cell_type": "markdown",
      "metadata": {
        "id": "fcUf5a14_GxK"
      },
      "source": [
        "#### Importing the dataset\r\n",
        "* Importing the dataset from the two available train and test subsets into train and test sets. Import specifies the categories and removal of headers, footers and quotes.  \r\n",
        "* We didn't use all categories to minimise the dataset size to one managable with colab RAM allocation.\r\n"
      ]
    },
    {
      "cell_type": "code",
      "metadata": {
        "id": "lqL74kDqAs49"
      },
      "source": [
        "cats = [\r\n",
        "        'alt.atheism',\r\n",
        "        'comp.graphics',\r\n",
        "        'comp.os.ms-windows.misc',\r\n",
        "        'comp.sys.ibm.pc.hardware',\r\n",
        "        'comp.sys.mac.hardware',\r\n",
        "        'comp.windows.x',\r\n",
        "        'misc.forsale',\r\n",
        "        'rec.autos',\r\n",
        "        'rec.motorcycles',\r\n",
        "        'rec.sport.baseball',\r\n",
        "        'rec.sport.hockey'\r\n",
        "        ]\r\n",
        "\r\n",
        "data_train = fetch_20newsgroups(subset='train', categories=cats,\r\n",
        "                                shuffle=True, random_state=42,\r\n",
        "                                remove=('headers', 'footers', 'quotes'))\r\n",
        "\r\n",
        "data_test = fetch_20newsgroups(subset='test', categories=cats,\r\n",
        "                               shuffle=True, random_state=42,\r\n",
        "                               remove=('headers', 'footers', 'quotes'))\r\n",
        "X_train = data_train.data\r\n",
        "y_train = data_train.target\r\n",
        "X_test = data_test.data\r\n",
        "y_test = data_test.target"
      ],
      "execution_count": 39,
      "outputs": []
    },
    {
      "cell_type": "code",
      "metadata": {
        "id": "1VtlS1sCA9wD",
        "colab": {
          "base_uri": "https://localhost:8080/"
        },
        "outputId": "7145fd46-acb1-4ce1-9d6a-07543c359e85"
      },
      "source": [
        "print(list(data_train.target_names))\r\n",
        "X_train[:5]"
      ],
      "execution_count": 40,
      "outputs": [
        {
          "output_type": "stream",
          "text": [
            "['alt.atheism', 'comp.graphics', 'comp.os.ms-windows.misc', 'comp.sys.ibm.pc.hardware', 'comp.sys.mac.hardware', 'comp.windows.x', 'misc.forsale', 'rec.autos', 'rec.motorcycles', 'rec.sport.baseball', 'rec.sport.hockey']\n"
          ],
          "name": "stdout"
        },
        {
          "output_type": "execute_result",
          "data": {
            "text/plain": [
              "['Wharf Wrat rites:\\n\\n\\nEver\\' once in a while, you still see a reference to the super-\\nslab system as \"Interstate and Defense Highways.\"  But whether\\nthe military has much of anything that goes 80 on the road is\\nanother matter.  A few of their most whomped-up diesel trucks,\\nmaybe, load permitting.  The military surplus stuff I\\'ve\\ndriven -- \"Jeep Classic\" (Willys/Kaiser/AMC, pre-independent\\nsuspension) and Power Wagons (Slant 6 in a crew-cab pickup)\\nweren\\'t exactly congenial at highway speeds, and I wouldn\\'t\\nswear any of them would do 80 except as a bedload on a semi.\\n\\nYou just gotta love the standard military tire, too, or at\\nleast the one they used to use.  Designed circa WW II as a\\ncompromise between traction in icky sticky goo and longevity\\non sharp rocks and so forth, it\\'s quite ill-adapted to high\\nspeeds on civilian roadways.  For those who can\\'t remember\\nwhat they look like, imagine a mountain-bike tire with a\\nroad rib in the middle, scaled up to car size. Oh, yeah, and\\nnarrow too. One of the standard mods for civilizing a surplus \\nJeep was to install tires and wheels that reflected some of\\nthe advancements made in ride and handling since D-Day.\\n\\nBut the point made by Wharfie and others still stands:  if\\nyou\\'re going to do 80 in a mil-spec \\'58 Power Wagon (or a\\nJeep or a tank transporter or other unwieldy rubber-tired\\nvehicle) anywhere, I\\'d suggest the American interstate.  \\nYour safe speed there tends to be limited more by your car\\nand skills, road maintenance, and the swarms of fools around\\nyou; the roads were designed for going like the devil.\\n\\nNaturally, neither I nor my employer advocates unsafe or\\nunlawful driving.',\n",
              " ': >Is there an ftp site where I can get the MS speaker sound driver?  There\\'s\\n: >a \"sound.exe\" file that claims to be the driver but I\\'m suspicious since\\n: >it\\'s not a .drv file.  \\n: \\n: Thats the file...\\nIt\\'s a self-extracting archive. (Run it and it extracts a .drv file.)\\n\\n\\tMichael\\n',\n",
              " 'I have a brand new low density 5.25\" floppy drive for MAC.\\nIt comes with a brand new Apple Macintosh II PC drive card, so \\nthat you can hook the drive up to the card.\\nIt allows you to use DOS formatted disks.\\nI am selling it for $90 (abt 1/3 retail price).\\n\\nAilin\\n803-654-8817',\n",
              " 'I am looking for the exact address of the Symantec Coporatoin, which \\ndistributes Norton Desktop and other Windows software.\\n\\nThe information I am looking for is:\\n\\nMail address\\nPhone number\\nFax number\\nE-mail address\\n\\nThanks in advance.\\n',\n",
              " \"\\n\\nI'm confused.  How is it Hal McRae's fault that he can't win with a team \\nwhose best offensive player is Phil Hiatt?  I mean, let's be real.  Kansas\\nCity will have to get outstanding years from their entire staff just to end\\nup near .500; they have less offense than any other team in baseball, even\\nif you count the expansion teams.\\n\\n\"]"
            ]
          },
          "metadata": {
            "tags": []
          },
          "execution_count": 40
        }
      ]
    },
    {
      "cell_type": "markdown",
      "metadata": {
        "id": "d3b6Y8VnCLSk"
      },
      "source": [
        "#### Data preparation\r\n",
        "* Converting the words in the data to vectors using count vectorization.  \r\n",
        "* Printing the vectorized data\r\n"
      ]
    },
    {
      "cell_type": "code",
      "metadata": {
        "id": "FTmmlv8mCJzu",
        "colab": {
          "base_uri": "https://localhost:8080/"
        },
        "outputId": "21d9b6f5-f609-493e-b010-f170acd9c680"
      },
      "source": [
        "vectorizer = CountVectorizer()\r\n",
        "X_train = vectorizer.fit_transform(X_train)\r\n",
        "X_test = vectorizer.transform(X_test)\r\n",
        "\r\n",
        "print(X_train)"
      ],
      "execution_count": 41,
      "outputs": [
        {
          "output_type": "stream",
          "text": [
            "  (0, 66798)\t1\n",
            "  (0, 67546)\t1\n",
            "  (0, 54609)\t1\n",
            "  (0, 26932)\t1\n",
            "  (0, 47575)\t1\n",
            "  (0, 34487)\t6\n",
            "  (0, 66853)\t1\n",
            "  (0, 69954)\t4\n",
            "  (0, 59307)\t2\n",
            "  (0, 56600)\t1\n",
            "  (0, 53604)\t1\n",
            "  (0, 61936)\t7\n",
            "  (0, 61376)\t14\n",
            "  (0, 59915)\t1\n",
            "  (0, 57777)\t1\n",
            "  (0, 60370)\t1\n",
            "  (0, 14768)\t3\n",
            "  (0, 35181)\t2\n",
            "  (0, 14060)\t11\n",
            "  (0, 23245)\t1\n",
            "  (0, 32592)\t1\n",
            "  (0, 18106)\t2\n",
            "  (0, 66841)\t1\n",
            "  (0, 43090)\t3\n",
            "  (0, 32068)\t1\n",
            "  :\t:\n",
            "  (6389, 52893)\t1\n",
            "  (6389, 13857)\t1\n",
            "  (6389, 27824)\t1\n",
            "  (6389, 49634)\t1\n",
            "  (6389, 12621)\t1\n",
            "  (6389, 50108)\t1\n",
            "  (6389, 41545)\t4\n",
            "  (6389, 35537)\t1\n",
            "  (6389, 33301)\t1\n",
            "  (6389, 37427)\t1\n",
            "  (6389, 59290)\t1\n",
            "  (6389, 52866)\t1\n",
            "  (6389, 28240)\t1\n",
            "  (6389, 56200)\t1\n",
            "  (6389, 15266)\t4\n",
            "  (6389, 15269)\t2\n",
            "  (6389, 57116)\t2\n",
            "  (6389, 62348)\t1\n",
            "  (6389, 41555)\t1\n",
            "  (6389, 38845)\t1\n",
            "  (6389, 31039)\t1\n",
            "  (6389, 44183)\t1\n",
            "  (6389, 24076)\t1\n",
            "  (6389, 20959)\t1\n",
            "  (6389, 19719)\t1\n"
          ],
          "name": "stdout"
        }
      ]
    },
    {
      "cell_type": "markdown",
      "metadata": {
        "id": "qWXEqfG6DxS5"
      },
      "source": [
        "#### Training the model\r\n",
        "* Training the Naive Bayes model on the training set by fitting the classifier object on X_train and y_train data. The .toarray() with X_train is used for converting it to a dense matrix."
      ]
    },
    {
      "cell_type": "code",
      "metadata": {
        "id": "kskNZx0vFQCo",
        "colab": {
          "base_uri": "https://localhost:8080/"
        },
        "outputId": "3e7fb548-a4cc-4080-bba0-5a546835e7c5"
      },
      "source": [
        "classifier = GaussianNB()\n",
        "classifier.fit(X_train.toarray(), y_train)"
      ],
      "execution_count": 42,
      "outputs": [
        {
          "output_type": "execute_result",
          "data": {
            "text/plain": [
              "GaussianNB(priors=None, var_smoothing=1e-09)"
            ]
          },
          "metadata": {
            "tags": []
          },
          "execution_count": 42
        }
      ]
    },
    {
      "cell_type": "markdown",
      "metadata": {
        "id": "K4LKCHZBPj5n"
      },
      "source": [
        "#### Predicting the results\r\n",
        "Using the .predict() method on the classifier object and passing the X_test to predict the results of the trained model."
      ]
    },
    {
      "cell_type": "code",
      "metadata": {
        "id": "m-cmCh46Pm59"
      },
      "source": [
        "y_pred = classifier.predict(X_test.toarray())"
      ],
      "execution_count": 43,
      "outputs": []
    },
    {
      "cell_type": "markdown",
      "metadata": {
        "id": "OTpeTj3FPs71"
      },
      "source": [
        "#### Making the confusion matrix\r\n"
      ]
    },
    {
      "cell_type": "code",
      "metadata": {
        "id": "rgpAxh9GIaq0",
        "colab": {
          "base_uri": "https://localhost:8080/"
        },
        "outputId": "c39ee8f1-5cee-435d-d09e-38b01de37cc3"
      },
      "source": [
        "cm = confusion_matrix(y_test, y_pred)\r\n",
        "print(cm)"
      ],
      "execution_count": 44,
      "outputs": [
        {
          "output_type": "stream",
          "text": [
            "[[229   4   0   7  22   3   7  14  13  12   8]\n",
            " [  7 239   4  26  52  42   9   2   6   2   0]\n",
            " [  5  75  19 107  94  51  23   7   4   6   3]\n",
            " [  0  24   5 234  85  11  20   5   5   1   2]\n",
            " [  0  22   2  45 258   9  26   8   6   8   1]\n",
            " [  0  58   3  18  38 254   3   2   8   7   4]\n",
            " [  1  14   0  40  57   7 219  21  16   6   9]\n",
            " [  7   6   1   1  39   1  17 266  49   9   0]\n",
            " [ 16   3   0   2  30   0  11  56 260  13   7]\n",
            " [ 12   1   0   0  27   1   3   5   8 318  22]\n",
            " [  9   2   0   1  16   2   5   7   3  24 330]]\n"
          ],
          "name": "stdout"
        }
      ]
    },
    {
      "cell_type": "markdown",
      "metadata": {
        "id": "MGc58cznQAv3"
      },
      "source": [
        "#### Visualizing the Confusion Matrix results\r\n"
      ]
    },
    {
      "cell_type": "code",
      "metadata": {
        "id": "rntLENgzQGlo",
        "colab": {
          "base_uri": "https://localhost:8080/",
          "height": 297
        },
        "outputId": "6cebb39c-d1f0-4d07-c8e6-fe227ccc92e2"
      },
      "source": [
        "plot_confusion_matrix(classifier, X_test.toarray(), y_test, display_labels=cats, cmap=plt.cm.Blues)"
      ],
      "execution_count": 45,
      "outputs": [
        {
          "output_type": "execute_result",
          "data": {
            "text/plain": [
              "<sklearn.metrics._plot.confusion_matrix.ConfusionMatrixDisplay at 0x7f607d7c7b00>"
            ]
          },
          "metadata": {
            "tags": []
          },
          "execution_count": 45
        },
        {
          "output_type": "display_data",
          "data": {
            "image/png": "[encoded data removed]",
            "text/plain": [
              "<Figure size 432x288 with 2 Axes>"
            ]
          },
          "metadata": {
            "tags": [],
            "needs_background": "light"
          }
        }
      ]
    }
  ]
}